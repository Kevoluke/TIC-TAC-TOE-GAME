{
 "cells": [
  {
   "cell_type": "code",
   "execution_count": 2,
   "id": "cf743664",
   "metadata": {},
   "outputs": [],
   "source": [
    "def board(vals):\n",
    "    print(f\"\\t  {vals[0]}  |  {vals[1]}  |  {vals[2]}  \")\n",
    "    print(\"\\t-----------------\")\n",
    "    print(f\"\\t  {vals[3]}  |  {vals[4]}  |  {vals[5]}  \")\n",
    "    print(\"\\t-----------------\")\n",
    "    print(f\"\\t  {vals[6]}  |  {vals[7]}  |  {vals[8]}  \")"
   ]
  },
  {
   "cell_type": "code",
   "execution_count": 3,
   "id": "40c784e6",
   "metadata": {},
   "outputs": [
    {
     "name": "stdout",
     "output_type": "stream",
     "text": [
      "\t     |     |     \n",
      "\t-----------------\n",
      "\t     |     |     \n",
      "\t-----------------\n",
      "\t     |     |     \n"
     ]
    }
   ],
   "source": [
    "vals=[\" \",\" \",\" \",\" \",\" \",\" \",\" \",\" \",\" \"]\n",
    "board(vals)"
   ]
  },
  {
   "cell_type": "code",
   "execution_count": 4,
   "id": "fc96910f",
   "metadata": {},
   "outputs": [],
   "source": [
    "def user_data():\n",
    "    player_1=input(\"Player 1 Please Enter your Name: \")\n",
    "    player_2=input(\"Player 2 Please Enter your Name: \")\n",
    "    \n",
    "    Player={}\n",
    "    \n",
    "    while True:\n",
    "        sym_1=input(f\"{player_1} Please Select Your symbol(X/O): \")\n",
    "        \n",
    "        if sym_1 not in [\"X\",\"x\",\"o\",\"O\"]:\n",
    "            print(\"Please Enter a valid value\")\n",
    "            \n",
    "        else: \n",
    "            Player[player_1]=sym_1\n",
    "            break\n",
    "            \n",
    "    if sym_1.upper()==\"X\":\n",
    "        print(f\"{player_2} Your Symbol would be 'O'\")\n",
    "        Player[player_2]=\"O\"\n",
    "    else: \n",
    "        print(f\"{player_2} Your Symbol would be 'X'\")\n",
    "        Player[player_2]=\"X\"\n",
    "        \n",
    "    return Player"
   ]
  },
  {
   "cell_type": "code",
   "execution_count": 5,
   "id": "1a6f184c",
   "metadata": {},
   "outputs": [],
   "source": [
    "def taking_input(chance,vals,Player):\n",
    "    print(f\"{chance} its Your chance!!\")\n",
    "    \n",
    "    while True:\n",
    "        pos=input(f\"\\n{chance} Enter the position where you wish to enter your symbol {Player[chance]}: \")\n",
    "        \n",
    "        \n",
    "        if pos.isdigit()==False:\n",
    "            print(\"\\nPlease Enter an INT in range (0-8)\")\n",
    "            \n",
    "        elif int(pos) not in range(0,9):\n",
    "            print(\"\\nPlease Enter the Position in range 0 to 8\")\n",
    "        \n",
    "        elif vals[int(pos)]!=\" \":\n",
    "            print(\"\\nThe Position You entered is Not Empty!!\")\n",
    "            print(\"Please Enter Another Position!\")\n",
    "        \n",
    "        else:\n",
    "            pos=int(pos)\n",
    "            vals[pos]=Player[chance]\n",
    "            break\n",
    "            \n",
    "    return vals\n",
    "    "
   ]
  },
  {
   "cell_type": "code",
   "execution_count": 6,
   "id": "c830371a",
   "metadata": {},
   "outputs": [],
   "source": [
    "def check_win(chance,vals):\n",
    "    if (vals[0]==vals[1]==vals[2]!=\" \") or (vals[3]==vals[4]==vals[5]!=\" \") or (vals[6]==vals[7]==vals[8]!=\" \") or (vals[0]==vals[3]==vals[6]!=\" \") or (vals[1]==vals[4]==vals[7]!=\" \") or (vals[2]==vals[5]==vals[8]!=\" \") or (vals[0]==vals[4]==vals[8]!=\" \") or (vals[2]==vals[4]==vals[6]!=\" \"):\n",
    "        print(f\"{chance} Congratulations!!! YOU WON!!!\")\n",
    "        return \"EXIT\"\n",
    "    else: \n",
    "        pass"
   ]
  },
  {
   "cell_type": "code",
   "execution_count": 7,
   "id": "f2b4c63d",
   "metadata": {},
   "outputs": [],
   "source": [
    "def board_check(vals):\n",
    "    flag=0\n",
    "    for x in range(0,9):\n",
    "        if vals[x]==\" \":\n",
    "            flag=1\n",
    "            \n",
    "    if flag==1:\n",
    "        pass\n",
    "        \n",
    "    else:\n",
    "        print(\"The Board is Full !\")\n",
    "        print(\"This Game is a TIE !\")\n",
    "        return \"EXIT\"\n",
    "        "
   ]
  },
  {
   "cell_type": "code",
   "execution_count": 9,
   "id": "f174bbcd",
   "metadata": {},
   "outputs": [],
   "source": [
    "def exit():\n",
    "    while True:\n",
    "        ex=input(\"Do you want to play again?(y/n): \")\n",
    "        if ex not in [\"Y\",\"y\",\"n\",\"N\"]:\n",
    "            print(\"Please Give a valid Input (y/n)!\")\n",
    "        else: break\n",
    "            \n",
    "    return ex.upper()"
   ]
  },
  {
   "cell_type": "code",
   "execution_count": 11,
   "id": "4d7ff366",
   "metadata": {},
   "outputs": [],
   "source": [
    "def random_chance(p_name):\n",
    "    import random\n",
    "    random.shuffle(p_name)\n",
    "    chance=random.choice(p_name)\n",
    "    return chance\n",
    "    "
   ]
  },
  {
   "cell_type": "code",
   "execution_count": 12,
   "id": "a6026fe5",
   "metadata": {},
   "outputs": [],
   "source": [
    "def chance_change(p_name,chance):\n",
    "    if chance==p_name[0]:\n",
    "        return p_name[-1]\n",
    "    else:\n",
    "        return p_name[0]"
   ]
  },
  {
   "cell_type": "code",
   "execution_count": 15,
   "id": "00b58eb2",
   "metadata": {},
   "outputs": [
    {
     "data": {
      "text/plain": [
       "'a'"
      ]
     },
     "execution_count": 15,
     "metadata": {},
     "output_type": "execute_result"
    }
   ],
   "source": [
    "random_chance([\"a\",\"b\"])"
   ]
  },
  {
   "cell_type": "code",
   "execution_count": null,
   "id": "7239daaa",
   "metadata": {},
   "outputs": [
    {
     "name": "stdout",
     "output_type": "stream",
     "text": [
      "\t\t\t--------------------\n",
      "\t\t\t  TIC TAC TOE !!!!          \n",
      "\t\t\t--------------------\n",
      "\n",
      "Welcome to The TIC TAC TOE Game!!\n",
      "Rules:\n",
      "1> The position where X or O can be inserted are as follows\n",
      "\n",
      "\t  0  |  1  |  2  \n",
      "\t-----------------\n",
      "\t  3  |  4  |  5  \n",
      "\t-----------------\n",
      "\t  6  |  7  |  8  \n",
      "This will be your empty/sample board\n",
      "\n",
      "\t     |     |     \n",
      "\t-----------------\n",
      "\t     |     |     \n",
      "\t-----------------\n",
      "\t     |     |     \n",
      "So Lets Start the game!\n"
     ]
    }
   ],
   "source": [
    "#main block of code!!!\n",
    "from IPython.display import clear_output\n",
    "vals=[\" \",\" \",\" \",\" \",\" \",\" \",\" \",\" \",\" \"]\n",
    "print(\"\\t\\t\\t--------------------\")\n",
    "print(\"\\t\\t\\t  TIC TAC TOE !!!!          \")\n",
    "print(\"\\t\\t\\t--------------------\")\n",
    "print(\"\\nWelcome to The TIC TAC TOE Game!!\")\n",
    "print(\"Rules:\")\n",
    "print(\"1> The position where X or O can be inserted are as follows\\n\")\n",
    "eg=[0,1,2,3,4,5,6,7,8]\n",
    "board(eg)\n",
    "print(\"This will be your empty/sample board\\n\")\n",
    "board(vals)\n",
    "print(\"So Lets Start the game!\")\n",
    "\n",
    "Player=user_data()\n",
    "p_name=list(Player.keys())\n",
    "chance=random_chance(p_name)\n",
    "\n",
    "while True: \n",
    "    vals=taking_input(chance,vals,Player)\n",
    "    clear_output()\n",
    "    board(vals)\n",
    "    a=check_win(chance,vals)\n",
    "    if a==\"EXIT\":\n",
    "        ex=exit()\n",
    "        if ex==\"Y\":\n",
    "            vals=[\" \",\" \",\" \",\" \",\" \",\" \",\" \",\" \",\" \"]\n",
    "            board(vals)\n",
    "        else: \n",
    "            print(\"thank you For Playing!\")\n",
    "            break\n",
    "            \n",
    "    b=board_check(vals)\n",
    "    if b==\"EXIT\":\n",
    "        ex=exit()\n",
    "        if ex==\"Y\":\n",
    "            vals=[\" \",\" \",\" \",\" \",\" \",\" \",\" \",\" \",\" \"]\n",
    "            board(vals)\n",
    "        else: \n",
    "            print(\"thank you For Playing!\")\n",
    "            break\n",
    "    chance=chance_change(p_name,chance)"
   ]
  },
  {
   "cell_type": "code",
   "execution_count": null,
   "id": "42ed4e9a",
   "metadata": {},
   "outputs": [],
   "source": []
  },
  {
   "cell_type": "code",
   "execution_count": null,
   "id": "6abfe948",
   "metadata": {},
   "outputs": [],
   "source": []
  }
 ],
 "metadata": {
  "kernelspec": {
   "display_name": "Python 3 (ipykernel)",
   "language": "python",
   "name": "python3"
  },
  "language_info": {
   "codemirror_mode": {
    "name": "ipython",
    "version": 3
   },
   "file_extension": ".py",
   "mimetype": "text/x-python",
   "name": "python",
   "nbconvert_exporter": "python",
   "pygments_lexer": "ipython3",
   "version": "3.9.7"
  }
 },
 "nbformat": 4,
 "nbformat_minor": 5
}
