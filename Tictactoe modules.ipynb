{
 "cells": [
  {
   "cell_type": "code",
   "execution_count": 8,
   "id": "4b967a3e",
   "metadata": {},
   "outputs": [],
   "source": [
    "#STEP 1;WRITING A FUNCTION TO PRINT OUT A BOARD SETUP AS ALIST WHERE EACH INDEX 0-8 CORRESPONDS WITH A NUMBER ON A NUMBER PAD\n",
    "\n",
    "#vals=[\" \",\" \",\" \",\" \",\" \",\" \",\" \",\" \",\" \"] 9 empty spaces of our game\n",
    "\n",
    "def board(vals):\n",
    "    print(f\"\\t\\t  {vals[0]}  |  {vals[1]}  |  {vals[2]}  \")\n",
    "    print(\"\\t\\t----------------\")\n",
    "    print(f\"\\t\\t  {vals[3]}  |  {vals[4]}  |  {vals[5]}  \")\n",
    "    print(\"\\t\\t----------------\")\n",
    "    print(f\"\\t\\t  {vals[6]}  |  {vals[7]}  |  {vals[8]}  \")\n",
    "   "
   ]
  },
  {
   "cell_type": "code",
   "execution_count": 9,
   "id": "5ff46b08",
   "metadata": {},
   "outputs": [
    {
     "name": "stdout",
     "output_type": "stream",
     "text": [
      "\t\t     |     |     \n",
      "\t\t----------------\n",
      "\t\t     |     |     \n",
      "\t\t----------------\n",
      "\t\t     |     |     \n"
     ]
    }
   ],
   "source": [
    "#TEST 1:testing our board \n",
    "vals=[\" \",\" \",\" \",\" \",\" \",\" \",\" \",\" \",\" \"]\n",
    "board(vals)"
   ]
  },
  {
   "cell_type": "code",
   "execution_count": 20,
   "id": "cef4e2f6",
   "metadata": {},
   "outputs": [],
   "source": [
    "#STEP 2;FUNCTION THAT TAKES USERDATA LIKE NAME AND CHOICE OF SYMBOLS(X OR O)\n",
    "def user_data():\n",
    "    p_1=input(\"Player 1 Please Enter your Name: \")\n",
    "    p_2=input(\"Player 2 Please Enter your Name: \")\n",
    "    players={} #in a dictionary so as to take name as key and symbol as value\n",
    "    \n",
    "    while True:\n",
    "        s_1=input(f\"{p_1} Please Enter Your Symbol (X/O): \")\n",
    "        \n",
    "        if s_1 not in [\"x\",\"X\",\"o\",\"O\"]:\n",
    "            print(\"Please Enter a Valid Choice\")\n",
    "        else:\n",
    "            s_1=s_1.upper()\n",
    "            players[p_1]=s_1\n",
    "            break\n",
    "            \n",
    "    if s_1==\"X\":\n",
    "        s_2==\"O\"\n",
    "    else:\n",
    "        s_2=\"X\"\n",
    "        \n",
    "    players[p_2]=s_2\n",
    "    \n",
    "    print(f\"{p_2} Your Symbol is '{s_2}'\")\n",
    "    \n",
    "    return players\n",
    "        "
   ]
  },
  {
   "cell_type": "code",
   "execution_count": 22,
   "id": "8b191111",
   "metadata": {},
   "outputs": [
    {
     "name": "stdout",
     "output_type": "stream",
     "text": [
      "Player 1 Please Enter your Name: luke\n",
      "Player 2 Please Enter your Name: kev\n",
      "luke Please Enter Your Symbol (X/O): o\n",
      "kev Your Symbol is 'X'\n"
     ]
    },
    {
     "data": {
      "text/plain": [
       "{'luke': 'O', 'kev': 'X'}"
      ]
     },
     "execution_count": 22,
     "metadata": {},
     "output_type": "execute_result"
    }
   ],
   "source": [
    "#TEST 2: TESTING THE USERDATA FUNCTION\n",
    "user_data()"
   ]
  },
  {
   "cell_type": "code",
   "execution_count": 29,
   "id": "aaa74c1e",
   "metadata": {},
   "outputs": [],
   "source": [
    "#STEP #FUNCTION WHICH ASKS THE USER THE POSITION THEY WANT TO ENTER THE SYMBOLS AND ALSO VALIDATES THE SYMBOL\n",
    "def user_input(vals):\n",
    "    while True:\n",
    "        pos=input(\"Select a Position you wish to enter your symbol: \")\n",
    "        \n",
    "        if pos.isdigit()==False:\n",
    "            print(\"Please enter a valid INT\")\n",
    "            \n",
    "        elif int(pos) not in range(0,9):\n",
    "            print(\"Please enter your position in range\")\n",
    "        elif vals[int(pos)]!=\" \":\n",
    "            print(\"The position you entered is occupied\")\n",
    "            print(\"Please enter another position\")\n",
    "            \n",
    "        else:\n",
    "            break\n",
    "            \n",
    "    return int(pos)"
   ]
  },
  {
   "cell_type": "code",
   "execution_count": 30,
   "id": "89e0264e",
   "metadata": {},
   "outputs": [
    {
     "name": "stdout",
     "output_type": "stream",
     "text": [
      "Select a Position you wish to enter your symbol: hhh\n",
      "Please enter a valid INT\n",
      "Select a Position you wish to enter your symbol: 44\n",
      "Please enter your position in range\n",
      "Select a Position you wish to enter your symbol: 3\n"
     ]
    },
    {
     "data": {
      "text/plain": [
       "3"
      ]
     },
     "execution_count": 30,
     "metadata": {},
     "output_type": "execute_result"
    }
   ],
   "source": [
    "#Testing the userdata function\n",
    "user_input(vals)"
   ]
  },
  {
   "cell_type": "code",
   "execution_count": 31,
   "id": "2061cc25",
   "metadata": {},
   "outputs": [],
   "source": [
    "#FUNCTION WHICH CHECKS THE WINNER AND LOSER\n",
    "def check_win(chance,vals):\n",
    "    if (vals[0]==vals[1]==vals[2]!=\" \") or (vals[3]==vals[4]==vals[5]!=\" \") or (vals[6]==vals[7]==vals[8]!=\" \") or (vals[0]==vals[3]==vals[6]!=\" \") or (vals[1]==vals[4]==vals[7]!=\" \") or (vals[2]==vals[5]==vals[8]!=\" \") or (vals[0]==vals[4]==vals[8]!=\" \") or (vals[2]==vals[4]==vals[6]!=\" \"):\n",
    "        print(f\"{chance} Congratulation you won!!\")"
   ]
  },
  {
   "cell_type": "code",
   "execution_count": 33,
   "id": "7d5930e3",
   "metadata": {},
   "outputs": [],
   "source": [
    "#FUNCTION WHICH CHECKS FOR A TIE BETWEEN PLAYERS\n",
    "def check_tie(vals):\n",
    "    flag=0\n",
    "    for x in range(0,9):\n",
    "        if vals[x]==\" \":\n",
    "            flag=1\n",
    "            \n",
    "    if flag==0:\n",
    "        print(\"The Board is Full!\")\n",
    "        print(\"This Game is a Tie!\")\n",
    "        \n",
    "    else:\n",
    "        pass"
   ]
  },
  {
   "cell_type": "code",
   "execution_count": 34,
   "id": "8f143053",
   "metadata": {},
   "outputs": [],
   "source": [
    "#FUNCTION TO EXIT THE GAME\n",
    "def exit():\n",
    "    while True:\n",
    "        ex=input(\"Do you want to play again(y/n): \")\n",
    "        \n",
    "        if ex not in [\"Y\", \"y\", \"N\", \"n\"]:\n",
    "            print(\"Please enter a valid choice\")\n",
    "            \n",
    "        else:\n",
    "            break\n",
    "            \n",
    "    return ex"
   ]
  },
  {
   "cell_type": "code",
   "execution_count": 36,
   "id": "3a6cd4f9",
   "metadata": {},
   "outputs": [],
   "source": [
    "#FUNCTION TO ALLOCATE CHANCE TO PLAYERS.USING SHUFFLE TO SELECT ONE NAME RANDOMLY\n",
    "def random_chance(play):\n",
    "    import random\n",
    "    random.shuffle(play)\n",
    "    chance=random.choice(play)\n",
    "    print(f\"{chance} It's your Turn First \")\n",
    "    return chance"
   ]
  },
  {
   "cell_type": "code",
   "execution_count": 37,
   "id": "dbd0c931",
   "metadata": {},
   "outputs": [],
   "source": [
    "#FUNCTION THAT CHANGES THE CHANCE BETWEEN THE TWO PLAYERS\n",
    "def change_chance(play,chance):\n",
    "    if chance==play[0]:\n",
    "        chance=play[-1]\n",
    "    else:\n",
    "        chance=play[0]\n",
    "        \n",
    "    return chance"
   ]
  }
 ],
 "metadata": {
  "kernelspec": {
   "display_name": "Python 3 (ipykernel)",
   "language": "python",
   "name": "python3"
  },
  "language_info": {
   "codemirror_mode": {
    "name": "ipython",
    "version": 3
   },
   "file_extension": ".py",
   "mimetype": "text/x-python",
   "name": "python",
   "nbconvert_exporter": "python",
   "pygments_lexer": "ipython3",
   "version": "3.9.7"
  }
 },
 "nbformat": 4,
 "nbformat_minor": 5
}
